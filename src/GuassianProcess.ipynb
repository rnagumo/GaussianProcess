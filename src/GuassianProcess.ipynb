{
 "cells": [
  {
   "cell_type": "markdown",
   "metadata": {},
   "source": [
    "# Gaussian Process\n",
    "\n",
    "フルスクラッチ？（numpy, scipyは使ってよい）  \n",
    "scikit-learnは以下の文献を参考に実装している。  \n",
    "C. E. Rasmussen & C. K. I. Williams, Gaussian Processes for Machine Learning, the MIT Press, 2006,\n",
    "\n",
    "ref)\n",
    "\n",
    "ガウス過程の基礎と教師なし学習  \n",
    "https://www.ism.ac.jp/~daichi/lectures/H26-GaussianProcess/gp-lecture2-daichi.pdf\n",
    "\n",
    "Instruction of chemoinformatics \"Gaussian Process\"  \n",
    "https://funatsu-lab.github.io/open-course-ware/machine-learning/gaussian-process/\n",
    "\n",
    "scikit-learn \"Gaussian Processes\"  \n",
    "https://scikit-learn.org/stable/modules/gaussian_process.html#gaussian-process"
   ]
  },
  {
   "cell_type": "code",
   "execution_count": 1,
   "metadata": {},
   "outputs": [],
   "source": [
    "%matplotlib inline\n",
    "\n",
    "import matplotlib.pyplot as plt\n",
    "import numpy as np\n",
    "\n",
    "from scipy import stats\n",
    "from scipy.linalg import cholesky, cho_solve, solve_triangular\n",
    "from scipy.spatial.distance import pdist, cdist, squareform\n",
    "\n",
    "from sklearn.preprocessing import StandardScaler\n",
    "\n",
    "plt.style.use('seaborn-darkgrid')"
   ]
  },
  {
   "cell_type": "markdown",
   "metadata": {},
   "source": [
    "# 1. Data"
   ]
  },
  {
   "cell_type": "markdown",
   "metadata": {},
   "source": [
    "真の分布を仮定する"
   ]
  },
  {
   "cell_type": "code",
   "execution_count": 2,
   "metadata": {},
   "outputs": [],
   "source": [
    "def sample(x):\n",
    "    return x * np.sin(x)"
   ]
  },
  {
   "cell_type": "markdown",
   "metadata": {},
   "source": [
    "定義域はx = [0, 10]  \n",
    "その内、4点のみがサンプリングされているとする。\n",
    "\n",
    "X, yのshapeは(n_samples, n_features [or n_output_dims])である。"
   ]
  },
  {
   "cell_type": "code",
   "execution_count": 3,
   "metadata": {},
   "outputs": [
    {
     "name": "stdout",
     "output_type": "stream",
     "text": [
      "(100, 1) (6, 1) (6, 1)\n"
     ]
    }
   ],
   "source": [
    "x = np.atleast_2d(np.arange(0, 10, 0.1)).T\n",
    "\n",
    "# Generated sample\n",
    "x_train = np.atleast_2d([1., 3., 5., 6., 7., 8.]).T\n",
    "y_train = sample(x_train)\n",
    "\n",
    "print(x.shape, x_train.shape, y_train.shape)"
   ]
  },
  {
   "cell_type": "markdown",
   "metadata": {},
   "source": [
    "スケーリングしたものを、予め用意しておく"
   ]
  },
  {
   "cell_type": "code",
   "execution_count": 4,
   "metadata": {},
   "outputs": [],
   "source": [
    "scl = StandardScaler()\n",
    "y_train_scl = scl.fit_transform(y_train)"
   ]
  },
  {
   "cell_type": "code",
   "execution_count": 5,
   "metadata": {},
   "outputs": [
    {
     "data": {
      "image/png": "[encoded data removed]",
      "text/plain": [
       "<Figure size 432x288 with 1 Axes>"
      ]
     },
     "metadata": {},
     "output_type": "display_data"
    }
   ],
   "source": [
    "plt.plot(x, sample(x), 'r--', label='original')\n",
    "plt.plot(x_train, y_train, 'bo', label='Sampled data')\n",
    "plt.legend()\n",
    "plt.show()"
   ]
  },
  {
   "cell_type": "markdown",
   "metadata": {},
   "source": [
    "# 2. Kernel"
   ]
  },
  {
   "cell_type": "markdown",
   "metadata": {},
   "source": [
    "ref)  \n",
    "\n",
    "RBF Kernel  \n",
    "https://github.com/scikit-learn/scikit-learn/blob/55bf5d9/sklearn/gaussian_process/kernels.py#L1146\n",
    "\n",
    "White Kernel  \n",
    "https://github.com/scikit-learn/scikit-learn/blob/55bf5d9/sklearn/gaussian_process/kernels.py#L1049\n",
    "\n",
    "squared Euclidean distance.\n",
    "https://docs.scipy.org/doc/scipy/reference/generated/scipy.spatial.distance.cdist.html#scipy.spatial.distance.cdist"
   ]
  },
  {
   "cell_type": "code",
   "execution_count": 6,
   "metadata": {},
   "outputs": [],
   "source": [
    "def rbf_kernel(X, Y=None, scale=1.0):\n",
    "    # RBF kernel\n",
    "    X = np.atleast_2d(X)\n",
    "    \n",
    "    # Computes the Squared Euclidean distance.\n",
    "    if Y is None:\n",
    "        dists = pdist(X / scale, metric='sqeuclidean')\n",
    "        K = np.exp(- .5 * dists)\n",
    "        # convert from upper-triangular matrix to square matrix\n",
    "        K = squareform(K)\n",
    "        np.fill_diagonal(K, 1)\n",
    "    else:\n",
    "        dists = cdist(X / scale, Y / scale, metric='sqeuclidean')\n",
    "        K = np.exp(- .5 * dists)\n",
    "    return K"
   ]
  },
  {
   "cell_type": "code",
   "execution_count": 7,
   "metadata": {},
   "outputs": [],
   "source": [
    "def constant_kernel(X, Y=None, constant=1.0):    \n",
    "    return np.full((X.shape[0], Y.shape[0]), constant)"
   ]
  },
  {
   "cell_type": "code",
   "execution_count": 8,
   "metadata": {},
   "outputs": [],
   "source": [
    "def kernel(X, Y=None, scale=1.0, constant=1.0):\n",
    "    return constant_kernel(X, Y) * rbf_kernel(X, Y)"
   ]
  },
  {
   "cell_type": "markdown",
   "metadata": {},
   "source": [
    "# 3. ガウス分布の平均と分散の更新"
   ]
  },
  {
   "cell_type": "markdown",
   "metadata": {},
   "source": [
    "## Line 2. カーネルの計算\n",
    "\n",
    "train: K_nの計算  \n",
    "test: K_x, K_xxの計算\n",
    "\n",
    "ノイズ項も付加している\n",
    "\n",
    "$\n",
    "K_n = \\left(\n",
    "\\begin{array}{ccc}\n",
    "k_\\theta (x_1, x_1) & ... & k_\\theta (x_1, x_n) \\\\\n",
    "... & ... & ... \\\\\n",
    "k_\\theta (x_n, x_1) & ... & k_\\theta (x_n, x_n)\n",
    "\\end{array}\n",
    "\\right)\n",
    "$"
   ]
  },
  {
   "cell_type": "code",
   "execution_count": 9,
   "metadata": {},
   "outputs": [],
   "source": [
    "K_n = kernel(x_train, x_train) + np.eye(x_train.shape[0]) * 1e-10"
   ]
  },
  {
   "cell_type": "markdown",
   "metadata": {},
   "source": [
    "Cholesky decomposition  \n",
    "https://en.wikipedia.org/wiki/Cholesky_decomposition\n",
    "\n",
    "正定値エルミート行列$A$、下三角行列$L$、共役転置$L^*$として、  \n",
    "$A = LL^*$\n",
    "\n",
    "Aが実対称行列の場合、  \n",
    "$A = LL^T$\n",
    "\n",
    "$L = cholesky(K + \\sigma_n^2 I)$"
   ]
  },
  {
   "cell_type": "code",
   "execution_count": 10,
   "metadata": {},
   "outputs": [
    {
     "name": "stdout",
     "output_type": "stream",
     "text": [
      "[[1.00000000e+00 0.00000000e+00 0.00000000e+00 0.00000000e+00\n",
      "  0.00000000e+00 0.00000000e+00]\n",
      " [1.35335283e-01 9.90799859e-01 0.00000000e+00 0.00000000e+00\n",
      "  0.00000000e+00 0.00000000e+00]\n",
      " [3.35462628e-04 1.36546127e-01 9.90633657e-01 0.00000000e+00\n",
      "  0.00000000e+00 0.00000000e+00]\n",
      " [3.72665317e-06 1.12116409e-02 6.10719965e-01 7.91767279e-01\n",
      "  0.00000000e+00 0.00000000e+00]\n",
      " [1.52299797e-08 3.38575509e-04 1.36568197e-01 6.60701640e-01\n",
      "  7.38120828e-01 0.00000000e+00]\n",
      " [2.28973485e-11 3.76125414e-06 1.12135126e-02 1.62278650e-01\n",
      "  6.74390236e-01 7.20234480e-01]]\n"
     ]
    }
   ],
   "source": [
    "L_ = cholesky(K_n, lower=True)\n",
    "print(L_)"
   ]
  },
  {
   "cell_type": "markdown",
   "metadata": {},
   "source": [
    "## Line 3. $\\alpha$の計算"
   ]
  },
  {
   "cell_type": "markdown",
   "metadata": {},
   "source": [
    "yの平均をずらす。今回は予めstandardizationしてあるので、平均0である。"
   ]
  },
  {
   "cell_type": "code",
   "execution_count": 11,
   "metadata": {},
   "outputs": [],
   "source": [
    "y_mean = np.mean(y_train_scl)\n",
    "y_train_scl = y_train_scl - y_mean"
   ]
  },
  {
   "cell_type": "markdown",
   "metadata": {},
   "source": [
    "trainデータだけで計算できるものは、予め計算しておく  \n",
    "cho_solveでは、$Ax = b$、つまり$L \\alpha = y_{train}$を解くので、  \n",
    "$\\alpha = L \\backslash y_{train}$が求められる。"
   ]
  },
  {
   "cell_type": "code",
   "execution_count": 12,
   "metadata": {},
   "outputs": [
    {
     "name": "stdout",
     "output_type": "stream",
     "text": [
      "[[-0.09255281]\n",
      " [ 0.01134971]\n",
      " [-1.4056755 ]\n",
      " [-0.15741792]\n",
      " [ 0.15477036]\n",
      " [ 1.57063868]]\n"
     ]
    }
   ],
   "source": [
    "alpha_ = cho_solve((L_, True), y_train_scl)\n",
    "# alpha_ = cho_solve((L_.T, True), alpha_)\n",
    "print(alpha_)"
   ]
  },
  {
   "cell_type": "markdown",
   "metadata": {},
   "source": [
    "# 4. 予測"
   ]
  },
  {
   "cell_type": "markdown",
   "metadata": {},
   "source": [
    "test dataから計算する\n",
    "\n",
    "$\n",
    "K_x^T = \\left(\n",
    "\\begin{array}{ccc}\n",
    "k_\\theta (x_1, x_{new_1}) & ... & k_\\theta (x_1, x_{new_n}) \\\\\n",
    "... & ... & ... \\\\\n",
    "k_\\theta (x_n, x_{new_1}) & ... & k_\\theta (x_n, x_{new_n})\n",
    "\\end{array}\n",
    "\\right)\n",
    "$"
   ]
  },
  {
   "cell_type": "code",
   "execution_count": 13,
   "metadata": {},
   "outputs": [],
   "source": [
    "K_x = kernel(x, x_train)  # K_trans\n",
    "K_xx = kernel(x, x)"
   ]
  },
  {
   "cell_type": "markdown",
   "metadata": {},
   "source": [
    "## Line 4. 平均の予測、予測値を逆変換する\n",
    "\n",
    "$y_{pred} = K_x^T K_n y_n$"
   ]
  },
  {
   "cell_type": "code",
   "execution_count": 14,
   "metadata": {},
   "outputs": [],
   "source": [
    "y_pred = K_x.dot(alpha_)\n",
    "y_pred = y_pred + y_mean  # Undo normal"
   ]
  },
  {
   "cell_type": "markdown",
   "metadata": {},
   "source": [
    "## Line 5. 標準偏差（1次元）を求める"
   ]
  },
  {
   "cell_type": "markdown",
   "metadata": {},
   "source": [
    "solve_triangular: solve $a x = b$ for x\n",
    "\n",
    "つまり、$L^T x = I$, $x = L^{-1}$を計算する\n",
    "\n",
    "これを用いると、$K^{-1} = L^{-1} (L^{-1})^T$"
   ]
  },
  {
   "cell_type": "code",
   "execution_count": 15,
   "metadata": {},
   "outputs": [],
   "source": [
    "L_inv = solve_triangular(L_.T, np.eye(L_.shape[0]))\n",
    "K_inv = L_inv.dot(L_inv.T)"
   ]
  },
  {
   "cell_type": "markdown",
   "metadata": {},
   "source": [
    "$\\sigma^2 = K(x, x) - K(x, x_{1:n})^T K_\\theta (x_{1:n})^{-1} K(x, x_{1:n})$"
   ]
  },
  {
   "cell_type": "code",
   "execution_count": 16,
   "metadata": {},
   "outputs": [],
   "source": [
    "y_std = K_xx.diagonal()\n",
    "y_std = y_std - np.einsum('ij,ij->i', np.dot(K_x, K_inv), K_x)"
   ]
  },
  {
   "cell_type": "code",
   "execution_count": 17,
   "metadata": {},
   "outputs": [],
   "source": [
    "y_std_negative = y_std < 0\n",
    "if np.any(y_std_negative):\n",
    "    y_std[y_std_negative] = 0."
   ]
  },
  {
   "cell_type": "markdown",
   "metadata": {},
   "source": [
    "## プロットする前に、求められた平均と分散のスケールを元に戻す"
   ]
  },
  {
   "cell_type": "code",
   "execution_count": 18,
   "metadata": {},
   "outputs": [],
   "source": [
    "y_pred = scl.inverse_transform(y_pred)\n",
    "y_std = y_std.reshape(-1, 1) * scl.scale_"
   ]
  },
  {
   "cell_type": "markdown",
   "metadata": {},
   "source": [
    "## plot\n",
    "\n",
    "matplotlib color example  \n",
    "https://matplotlib.org/examples/color/named_colors.html"
   ]
  },
  {
   "cell_type": "code",
   "execution_count": 19,
   "metadata": {},
   "outputs": [
    {
     "data": {
      "image/png": "[encoded data removed]",
      "text/plain": [
       "<Figure size 432x288 with 1 Axes>"
      ]
     },
     "metadata": {},
     "output_type": "display_data"
    }
   ],
   "source": [
    "plt.plot(x, sample(x), 'r--', label='Original')\n",
    "plt.plot(x_train, y_train, 'bo', label='Train data')\n",
    "plt.plot(x, y_pred, 'g', label='GP')\n",
    "plt.fill_between(x.squeeze(), (y_pred - 1.96 * y_std).squeeze(),\n",
    "                 (y_pred + 1.96 * y_std).squeeze(),\n",
    "                 color='yellowgreen', label='95% CI') \n",
    "plt.legend()\n",
    "plt.show()"
   ]
  },
  {
   "cell_type": "markdown",
   "metadata": {},
   "source": [
    "# 5. scikit-learnのモデルを使う"
   ]
  },
  {
   "cell_type": "code",
   "execution_count": 20,
   "metadata": {},
   "outputs": [],
   "source": [
    "from sklearn.gaussian_process import GaussianProcessRegressor\n",
    "from sklearn.gaussian_process.kernels import ConstantKernel, RBF, WhiteKernel"
   ]
  },
  {
   "cell_type": "code",
   "execution_count": 21,
   "metadata": {},
   "outputs": [
    {
     "data": {
      "text/plain": [
       "GaussianProcessRegressor(alpha=1e-10, copy_X_train=True,\n",
       "             kernel=1**2 * RBF(length_scale=1), n_restarts_optimizer=0,\n",
       "             normalize_y=False, optimizer='fmin_l_bfgs_b',\n",
       "             random_state=None)"
      ]
     },
     "execution_count": 21,
     "metadata": {},
     "output_type": "execute_result"
    }
   ],
   "source": [
    "scl = StandardScaler()\n",
    "y_train_scl = scl.fit_transform(y_train)\n",
    "\n",
    "kernel = ConstantKernel() * RBF()\n",
    "gp = GaussianProcessRegressor(kernel=kernel)\n",
    "gp.fit(x_train, y_train_scl)"
   ]
  },
  {
   "cell_type": "code",
   "execution_count": 22,
   "metadata": {},
   "outputs": [],
   "source": [
    "pred_mu, pred_sg = gp.predict(x, return_std=True)\n",
    "pred_mu = scl.inverse_transform(pred_mu)\n",
    "pred_sg = pred_sg.reshape(-1, 1) * scl.scale_"
   ]
  },
  {
   "cell_type": "markdown",
   "metadata": {},
   "source": [
    "凡そ同じ結果が得られた。"
   ]
  },
  {
   "cell_type": "code",
   "execution_count": 23,
   "metadata": {},
   "outputs": [
    {
     "data": {
      "image/png": "[encoded data removed]",
      "text/plain": [
       "<Figure size 432x288 with 1 Axes>"
      ]
     },
     "metadata": {},
     "output_type": "display_data"
    }
   ],
   "source": [
    "plt.plot(x, sample(x), 'r--', label='original')\n",
    "plt.plot(x_train, y_train, 'bo', label='Sampled data')\n",
    "plt.plot(x, pred_mu, 'g', label='GP')\n",
    "plt.fill_between(x.squeeze(), (pred_mu - 1.96 * pred_sg).squeeze(),\n",
    "                 (pred_mu + 1.96 * pred_sg).squeeze(),\n",
    "                 color='yellowgreen', label='95% CI') \n",
    "plt.legend()\n",
    "plt.show()"
   ]
  },
  {
   "cell_type": "code",
   "execution_count": null,
   "metadata": {},
   "outputs": [],
   "source": []
  },
  {
   "cell_type": "code",
   "execution_count": null,
   "metadata": {},
   "outputs": [],
   "source": []
  },
  {
   "cell_type": "code",
   "execution_count": null,
   "metadata": {},
   "outputs": [],
   "source": []
  },
  {
   "cell_type": "code",
   "execution_count": null,
   "metadata": {},
   "outputs": [],
   "source": []
  },
  {
   "cell_type": "code",
   "execution_count": null,
   "metadata": {},
   "outputs": [],
   "source": []
  }
 ],
 "metadata": {
  "kernelspec": {
   "display_name": "Python 3",
   "language": "python",
   "name": "python3"
  },
  "language_info": {
   "codemirror_mode": {
    "name": "ipython",
    "version": 3
   },
   "file_extension": ".py",
   "mimetype": "text/x-python",
   "name": "python",
   "nbconvert_exporter": "python",
   "pygments_lexer": "ipython3",
   "version": "3.7.3"
  }
 },
 "nbformat": 4,
 "nbformat_minor": 2
}
